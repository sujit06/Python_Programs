{
 "cells": [
  {
   "cell_type": "code",
   "execution_count": 1,
   "metadata": {
    "collapsed": true
   },
   "outputs": [],
   "source": [
    "import pandas as pd\n",
    "import numpy as np"
   ]
  },
  {
   "cell_type": "code",
   "execution_count": 2,
   "metadata": {
    "scrolled": true
   },
   "outputs": [
    {
     "data": {
      "text/plain": [
       "0    4.0\n",
       "1    8.0\n",
       "2    8.1\n",
       "3   -4.0\n",
       "dtype: float64"
      ]
     },
     "execution_count": 2,
     "metadata": {},
     "output_type": "execute_result"
    }
   ],
   "source": [
    "pandas_series = pd.Series([4, 8, 8.1, -4])\n",
    "pandas_series"
   ]
  },
  {
   "cell_type": "code",
   "execution_count": 3,
   "metadata": {},
   "outputs": [
    {
     "data": {
      "text/plain": [
       "a    4.0\n",
       "c    8.0\n",
       "b    8.1\n",
       "d   -4.0\n",
       "dtype: float64"
      ]
     },
     "execution_count": 3,
     "metadata": {},
     "output_type": "execute_result"
    }
   ],
   "source": [
    "pandas_series = pd.Series([4, 8, 8.1, -4], index = [\"a\", \"c\", \"b\", \"d\"])\n",
    "pandas_series"
   ]
  },
  {
   "cell_type": "code",
   "execution_count": 4,
   "metadata": {},
   "outputs": [
    {
     "data": {
      "text/plain": [
       "8.0999999999999996"
      ]
     },
     "execution_count": 4,
     "metadata": {},
     "output_type": "execute_result"
    }
   ],
   "source": [
    "pandas_series[2]"
   ]
  },
  {
   "cell_type": "code",
   "execution_count": 5,
   "metadata": {
    "scrolled": true
   },
   "outputs": [
    {
     "data": {
      "text/plain": [
       "a    4.0\n",
       "d   -4.0\n",
       "dtype: float64"
      ]
     },
     "execution_count": 5,
     "metadata": {},
     "output_type": "execute_result"
    }
   ],
   "source": [
    "pandas_series [pandas_series < 5 ]"
   ]
  },
  {
   "cell_type": "code",
   "execution_count": 6,
   "metadata": {},
   "outputs": [
    {
     "data": {
      "text/plain": [
       "a    4.0\n",
       "c    8.0\n",
       "b    8.1\n",
       "dtype: float64"
      ]
     },
     "execution_count": 6,
     "metadata": {},
     "output_type": "execute_result"
    }
   ],
   "source": [
    "pandas_series[pandas_series > 0]"
   ]
  },
  {
   "cell_type": "code",
   "execution_count": 7,
   "metadata": {},
   "outputs": [
    {
     "name": "stdout",
     "output_type": "stream",
     "text": [
      "a     hi\n",
      "b    5.4\n",
      "c   -9.4\n",
      "d     12\n",
      "dtype: object\n"
     ]
    }
   ],
   "source": [
    "#series from dictionary\n",
    "\n",
    "dictionary = {\"a\":\"hi\",\"b\":5.4,\"c\":-9.4,\"d\":12}\n",
    "s=pd.Series(dictionary)\n",
    "print(s)"
   ]
  },
  {
   "cell_type": "code",
   "execution_count": 8,
   "metadata": {},
   "outputs": [
    {
     "data": {
      "text/plain": [
       "a     hi\n",
       "c   -9.4\n",
       "dtype: object"
      ]
     },
     "execution_count": 8,
     "metadata": {},
     "output_type": "execute_result"
    }
   ],
   "source": [
    "s[{\"a\",\"c\"}]"
   ]
  },
  {
   "cell_type": "code",
   "execution_count": 9,
   "metadata": {
    "scrolled": true
   },
   "outputs": [
    {
     "data": {
      "text/html": [
       "<div>\n",
       "<style>\n",
       "    .dataframe thead tr:only-child th {\n",
       "        text-align: right;\n",
       "    }\n",
       "\n",
       "    .dataframe thead th {\n",
       "        text-align: left;\n",
       "    }\n",
       "\n",
       "    .dataframe tbody tr th {\n",
       "        vertical-align: top;\n",
       "    }\n",
       "</style>\n",
       "<table border=\"1\" class=\"dataframe\">\n",
       "  <thead>\n",
       "    <tr style=\"text-align: right;\">\n",
       "      <th></th>\n",
       "      <th>date</th>\n",
       "      <th>global_temp</th>\n",
       "    </tr>\n",
       "  </thead>\n",
       "  <tbody>\n",
       "    <tr>\n",
       "      <th>0</th>\n",
       "      <td>December,2014</td>\n",
       "      <td>0.87</td>\n",
       "    </tr>\n",
       "    <tr>\n",
       "      <th>1</th>\n",
       "      <td>December, 2013</td>\n",
       "      <td>0.74</td>\n",
       "    </tr>\n",
       "    <tr>\n",
       "      <th>2</th>\n",
       "      <td>December, 2012</td>\n",
       "      <td>0.65</td>\n",
       "    </tr>\n",
       "    <tr>\n",
       "      <th>3</th>\n",
       "      <td>December,2011</td>\n",
       "      <td>0.63</td>\n",
       "    </tr>\n",
       "  </tbody>\n",
       "</table>\n",
       "</div>"
      ],
      "text/plain": [
       "             date  global_temp\n",
       "0   December,2014         0.87\n",
       "1  December, 2013         0.74\n",
       "2  December, 2012         0.65\n",
       "3   December,2011         0.63"
      ]
     },
     "execution_count": 9,
     "metadata": {},
     "output_type": "execute_result"
    }
   ],
   "source": [
    "data = {\"date\" : [ \"December,2014\", \"December, 2013\",\"December, 2012\",\"December,2011\"], \"global_temp\": [0.87,0.74,0.65,0.63]\n",
    "       }\n",
    "dataframe = pd.DataFrame(data)\n",
    "dataframe"
   ]
  },
  {
   "cell_type": "code",
   "execution_count": 10,
   "metadata": {},
   "outputs": [
    {
     "data": {
      "text/html": [
       "<div>\n",
       "<style>\n",
       "    .dataframe thead tr:only-child th {\n",
       "        text-align: right;\n",
       "    }\n",
       "\n",
       "    .dataframe thead th {\n",
       "        text-align: left;\n",
       "    }\n",
       "\n",
       "    .dataframe tbody tr th {\n",
       "        vertical-align: top;\n",
       "    }\n",
       "</style>\n",
       "<table border=\"1\" class=\"dataframe\">\n",
       "  <thead>\n",
       "    <tr style=\"text-align: right;\">\n",
       "      <th></th>\n",
       "      <th>global_temp</th>\n",
       "      <th>date</th>\n",
       "    </tr>\n",
       "  </thead>\n",
       "  <tbody>\n",
       "    <tr>\n",
       "      <th>0</th>\n",
       "      <td>0.87</td>\n",
       "      <td>December,2014</td>\n",
       "    </tr>\n",
       "    <tr>\n",
       "      <th>1</th>\n",
       "      <td>0.74</td>\n",
       "      <td>December, 2013</td>\n",
       "    </tr>\n",
       "    <tr>\n",
       "      <th>2</th>\n",
       "      <td>0.65</td>\n",
       "      <td>December, 2012</td>\n",
       "    </tr>\n",
       "    <tr>\n",
       "      <th>3</th>\n",
       "      <td>0.63</td>\n",
       "      <td>December,2011</td>\n",
       "    </tr>\n",
       "  </tbody>\n",
       "</table>\n",
       "</div>"
      ],
      "text/plain": [
       "   global_temp            date\n",
       "0         0.87   December,2014\n",
       "1         0.74  December, 2013\n",
       "2         0.65  December, 2012\n",
       "3         0.63   December,2011"
      ]
     },
     "execution_count": 10,
     "metadata": {},
     "output_type": "execute_result"
    }
   ],
   "source": [
    "pd.DataFrame(dataframe,columns = [\"global_temp\",\"date\"])"
   ]
  },
  {
   "cell_type": "code",
   "execution_count": 11,
   "metadata": {},
   "outputs": [
    {
     "name": "stdout",
     "output_type": "stream",
     "text": [
      "0     December,2014\n",
      "1    December, 2013\n",
      "2    December, 2012\n",
      "3     December,2011\n",
      "Name: date, dtype: object\n",
      "0     December,2014\n",
      "1    December, 2013\n",
      "2    December, 2012\n",
      "3     December,2011\n",
      "Name: date, dtype: object\n"
     ]
    }
   ],
   "source": [
    "print(dataframe.date)\n",
    "print(dataframe['date'])"
   ]
  },
  {
   "cell_type": "code",
   "execution_count": 12,
   "metadata": {},
   "outputs": [
    {
     "data": {
      "text/plain": [
       "array(['December,2014', 'December, 2013', 'December, 2012', 'December,2011'], dtype=object)"
      ]
     },
     "execution_count": 12,
     "metadata": {},
     "output_type": "execute_result"
    }
   ],
   "source": [
    "dataframe['date'].values"
   ]
  },
  {
   "cell_type": "code",
   "execution_count": 13,
   "metadata": {
    "collapsed": true
   },
   "outputs": [],
   "source": [
    "#Dataframe : viewing Data.\n",
    "\n",
    "dataframe = pd.DataFrame(np.random.randn(20,5), \n",
    "                         columns = ['A', 'B', 'C', 'D', 'E'])"
   ]
  },
  {
   "cell_type": "code",
   "execution_count": 14,
   "metadata": {
    "scrolled": false
   },
   "outputs": [
    {
     "name": "stdout",
     "output_type": "stream",
     "text": [
      "          A         B         C         D         E\n",
      "0  1.199257  1.668821  0.892761  0.336656  0.803638\n",
      "1 -0.608212  2.014369  0.300751 -0.657201 -0.277371\n",
      "2 -1.447415 -0.337868  0.508073  1.199640 -0.995777\n",
      "3 -0.076001  0.708811  0.477218  1.620855  0.333582\n",
      "4  1.101881 -2.734863  1.242558 -0.651159  0.158203\n"
     ]
    }
   ],
   "source": [
    "print(dataframe.head())"
   ]
  },
  {
   "cell_type": "code",
   "execution_count": 18,
   "metadata": {},
   "outputs": [
    {
     "name": "stdout",
     "output_type": "stream",
     "text": [
      "           A         B         C         D         E\n",
      "15  0.029522  0.665544 -0.218997 -0.224870 -0.466611\n",
      "16  0.177254  0.223106  0.461751  0.731037  0.099566\n",
      "17 -0.144972 -1.079199  0.009433 -0.571896  0.447541\n",
      "18  0.510390  0.406754 -0.407046 -0.524451  1.220601\n",
      "19 -0.311083  1.127887  1.444417  0.706401 -1.048960\n"
     ]
    }
   ],
   "source": [
    "print(dataframe.tail())"
   ]
  },
  {
   "cell_type": "code",
   "execution_count": 19,
   "metadata": {},
   "outputs": [
    {
     "name": "stdout",
     "output_type": "stream",
     "text": [
      "               A          B          C          D          E\n",
      "count  20.000000  20.000000  20.000000  20.000000  20.000000\n",
      "mean   -0.329818   0.054277   0.274430   0.124130  -0.090238\n",
      "std     0.838223   1.184932   0.823484   0.876490   0.774672\n",
      "min    -2.119016  -2.734863  -2.284196  -1.345258  -1.079871\n",
      "25%    -0.658979  -0.631512  -0.047674  -0.591712  -0.683612\n",
      "50%    -0.253583   0.352158   0.466658   0.033617  -0.064219\n",
      "75%     0.066455   0.718724   0.717537   0.740995   0.344101\n",
      "max     1.199257   2.014369   1.444417   1.796426   1.583935\n"
     ]
    }
   ],
   "source": [
    "print(dataframe.describe())"
   ]
  },
  {
   "cell_type": "code",
   "execution_count": 20,
   "metadata": {
    "scrolled": true
   },
   "outputs": [
    {
     "name": "stdout",
     "output_type": "stream",
     "text": [
      "           A         B         C         D         E\n",
      "13 -0.811278 -1.012940 -2.284196  1.796426  0.375659\n",
      "9  -0.196082 -0.598273 -0.589360  0.253644 -0.536649\n",
      "7  -1.630138  1.087060 -0.524783 -0.186411  0.224673\n",
      "18  0.510390  0.406754 -0.407046 -0.524451  1.220601\n",
      "15  0.029522  0.665544 -0.218997 -0.224870 -0.466611\n"
     ]
    }
   ],
   "source": [
    "print(dataframe.sort_values(by='C').head())"
   ]
  },
  {
   "cell_type": "code",
   "execution_count": 21,
   "metadata": {
    "scrolled": false
   },
   "outputs": [
    {
     "name": "stdout",
     "output_type": "stream",
     "text": [
      "           A         B         C         D         E\n",
      "19 -0.311083  1.127887  1.444417  0.706401 -1.048960\n",
      "18  0.510390  0.406754 -0.407046 -0.524451  1.220601\n",
      "17 -0.144972 -1.079199  0.009433 -0.571896  0.447541\n",
      "16  0.177254  0.223106  0.461751  0.731037  0.099566\n",
      "15  0.029522  0.665544 -0.218997 -0.224870 -0.466611\n"
     ]
    }
   ],
   "source": [
    "print(dataframe.sort_index(ascending = False).head())"
   ]
  },
  {
   "cell_type": "code",
   "execution_count": 22,
   "metadata": {
    "scrolled": false
   },
   "outputs": [
    {
     "name": "stdout",
     "output_type": "stream",
     "text": [
      "0    1.199257\n",
      "1   -0.608212\n",
      "2   -1.447415\n",
      "3   -0.076001\n",
      "4    1.101881\n",
      "Name: A, dtype: float64\n"
     ]
    }
   ],
   "source": [
    "print(dataframe['A'].head())"
   ]
  },
  {
   "cell_type": "code",
   "execution_count": 23,
   "metadata": {
    "scrolled": false
   },
   "outputs": [
    {
     "name": "stdout",
     "output_type": "stream",
     "text": [
      "          A         B         C         D         E\n",
      "1 -0.608212  2.014369  0.300751 -0.657201 -0.277371\n",
      "2 -1.447415 -0.337868  0.508073  1.199640 -0.995777\n",
      "3 -0.076001  0.708811  0.477218  1.620855  0.333582\n"
     ]
    }
   ],
   "source": [
    "print(dataframe[1:4])"
   ]
  },
  {
   "cell_type": "code",
   "execution_count": 24,
   "metadata": {},
   "outputs": [
    {
     "name": "stdout",
     "output_type": "stream",
     "text": [
      "          A         B         C\n",
      "0  1.199257  1.668821  0.892761\n",
      "1 -0.608212  2.014369  0.300751\n",
      "2 -1.447415 -0.337868  0.508073\n",
      "3 -0.076001  0.708811  0.477218\n"
     ]
    }
   ],
   "source": [
    "#Print first 4 rows of columns A, B, c\n",
    "print(dataframe[0:4][['A','B','C']])"
   ]
  },
  {
   "cell_type": "code",
   "execution_count": 25,
   "metadata": {},
   "outputs": [
    {
     "name": "stdout",
     "output_type": "stream",
     "text": [
      "          A         B\n",
      "0  1.199257  1.668821\n",
      "1 -0.608212  2.014369\n",
      "2 -1.447415 -0.337868\n",
      "3 -0.076001  0.708811\n",
      "4  1.101881 -2.734863\n"
     ]
    }
   ],
   "source": [
    "print(dataframe[['A', 'B']].head())"
   ]
  },
  {
   "cell_type": "code",
   "execution_count": 27,
   "metadata": {},
   "outputs": [
    {
     "name": "stdout",
     "output_type": "stream",
     "text": [
      "    A   B    C\n",
      "aa  4  10  100\n",
      "aa  5  20   50\n",
      "bb  6  30  -30\n",
      "cc  7  40  -50\n"
     ]
    }
   ],
   "source": [
    "#loc, iloc & ix\n",
    "df = pd.DataFrame({'A' : [4,5,6,7],\n",
    "                   'B' : [10,20,30,40],\n",
    "                   'C' : [100,50,-30,-50]})\n",
    "df.index = ['aa', 'aa', 'bb', 'cc']\n",
    "print(df)"
   ]
  },
  {
   "cell_type": "code",
   "execution_count": 28,
   "metadata": {
    "scrolled": true
   },
   "outputs": [
    {
     "name": "stdout",
     "output_type": "stream",
     "text": [
      "    A   B    C\n",
      "aa  4  10  100\n",
      "aa  5  20   50\n",
      "    A   B    C\n",
      "aa  4  10  100\n",
      "aa  5  20   50\n",
      "bb  6  30  -30\n"
     ]
    }
   ],
   "source": [
    "# label based indexing. \n",
    "# loc[label of the row as a list , label of the column as a list]\n",
    "print(df.loc['aa'])\n",
    "\n",
    "#to print the rows indexed as aa and bb\n",
    "print(df.loc[['aa','bb']])          "
   ]
  },
  {
   "cell_type": "code",
   "execution_count": 29,
   "metadata": {},
   "outputs": [
    {
     "name": "stdout",
     "output_type": "stream",
     "text": [
      "    A   B\n",
      "aa  4  10\n",
      "aa  5  20\n"
     ]
    }
   ],
   "source": [
    "print(df.loc['aa', ['A', 'B']])"
   ]
  },
  {
   "cell_type": "code",
   "execution_count": 30,
   "metadata": {},
   "outputs": [
    {
     "name": "stdout",
     "output_type": "stream",
     "text": [
      "    A   B    C\n",
      "aa  4  10  100\n",
      "aa  5  20   50\n",
      "bb  6  30  -30\n"
     ]
    }
   ],
   "source": [
    "# positional indexing\n",
    "print(df.iloc[0:3])"
   ]
  },
  {
   "cell_type": "code",
   "execution_count": 31,
   "metadata": {},
   "outputs": [
    {
     "name": "stdout",
     "output_type": "stream",
     "text": [
      "A     6\n",
      "B    30\n",
      "Name: bb, dtype: int64\n"
     ]
    }
   ],
   "source": [
    "print(df.iloc[2, [0, 1]])"
   ]
  },
  {
   "cell_type": "code",
   "execution_count": 32,
   "metadata": {},
   "outputs": [
    {
     "name": "stderr",
     "output_type": "stream",
     "text": [
      "C:\\ProgramData\\Anaconda3\\lib\\site-packages\\ipykernel_launcher.py:1: DeprecationWarning: \n",
      ".ix is deprecated. Please use\n",
      ".loc for label based indexing or\n",
      ".iloc for positional indexing\n",
      "\n",
      "See the documentation here:\n",
      "http://pandas.pydata.org/pandas-docs/stable/indexing.html#ix-indexer-is-deprecated\n",
      "  \"\"\"Entry point for launching an IPython kernel.\n"
     ]
    },
    {
     "data": {
      "text/plain": [
       "5"
      ]
     },
     "execution_count": 32,
     "metadata": {},
     "output_type": "execute_result"
    }
   ],
   "source": [
    " df.ix[1, 'A']"
   ]
  },
  {
   "cell_type": "code",
   "execution_count": 33,
   "metadata": {},
   "outputs": [
    {
     "name": "stdout",
     "output_type": "stream",
     "text": [
      "    A   B    C\n",
      "aa  4  10  100\n",
      "aa  5  20   50\n"
     ]
    }
   ],
   "source": [
    "print(df.ix['aa', :3])"
   ]
  },
  {
   "cell_type": "code",
   "execution_count": null,
   "metadata": {
    "collapsed": true
   },
   "outputs": [],
   "source": [
    "print(dataframe)"
   ]
  },
  {
   "cell_type": "code",
   "execution_count": 34,
   "metadata": {},
   "outputs": [
    {
     "name": "stdout",
     "output_type": "stream",
     "text": [
      "          A         B         D\n",
      "1 -0.608212  2.014369 -0.657201\n",
      "3 -0.076001  0.708811  1.620855\n",
      "5 -1.000502 -2.023603 -0.976284\n",
      "7 -1.630138  1.087060 -0.186411\n"
     ]
    },
    {
     "name": "stderr",
     "output_type": "stream",
     "text": [
      "C:\\ProgramData\\Anaconda3\\lib\\site-packages\\ipykernel_launcher.py:2: DeprecationWarning: \n",
      ".ix is deprecated. Please use\n",
      ".loc for label based indexing or\n",
      ".iloc for positional indexing\n",
      "\n",
      "See the documentation here:\n",
      "http://pandas.pydata.org/pandas-docs/stable/indexing.html#ix-indexer-is-deprecated\n",
      "  \n"
     ]
    }
   ],
   "source": [
    "#print 1,3,5,7 rows of columns A, B and D\n",
    "print(dataframe.ix[[1,3,5,7],['A','B','D']])"
   ]
  },
  {
   "cell_type": "code",
   "execution_count": 35,
   "metadata": {},
   "outputs": [
    {
     "data": {
      "text/plain": [
       "aa    4\n",
       "aa    5\n",
       "bb    6\n",
       "cc    7\n",
       "Name: A, dtype: int64"
      ]
     },
     "execution_count": 35,
     "metadata": {},
     "output_type": "execute_result"
    }
   ],
   "source": [
    "df['A']"
   ]
  },
  {
   "cell_type": "code",
   "execution_count": 36,
   "metadata": {},
   "outputs": [
    {
     "data": {
      "text/html": [
       "<div>\n",
       "<style>\n",
       "    .dataframe thead tr:only-child th {\n",
       "        text-align: right;\n",
       "    }\n",
       "\n",
       "    .dataframe thead th {\n",
       "        text-align: left;\n",
       "    }\n",
       "\n",
       "    .dataframe tbody tr th {\n",
       "        vertical-align: top;\n",
       "    }\n",
       "</style>\n",
       "<table border=\"1\" class=\"dataframe\">\n",
       "  <thead>\n",
       "    <tr style=\"text-align: right;\">\n",
       "      <th></th>\n",
       "      <th>A</th>\n",
       "      <th>B</th>\n",
       "    </tr>\n",
       "  </thead>\n",
       "  <tbody>\n",
       "    <tr>\n",
       "      <th>aa</th>\n",
       "      <td>5</td>\n",
       "      <td>20</td>\n",
       "    </tr>\n",
       "    <tr>\n",
       "      <th>bb</th>\n",
       "      <td>6</td>\n",
       "      <td>30</td>\n",
       "    </tr>\n",
       "    <tr>\n",
       "      <th>cc</th>\n",
       "      <td>7</td>\n",
       "      <td>40</td>\n",
       "    </tr>\n",
       "  </tbody>\n",
       "</table>\n",
       "</div>"
      ],
      "text/plain": [
       "    A   B\n",
       "aa  5  20\n",
       "bb  6  30\n",
       "cc  7  40"
      ]
     },
     "execution_count": 36,
     "metadata": {},
     "output_type": "execute_result"
    }
   ],
   "source": [
    "# Fetch A and B columns of the df for all A values >= 5\n",
    "df[df.A>=5][['A','B']] # or df[df[A]>=5][['A','B']]"
   ]
  },
  {
   "cell_type": "code",
   "execution_count": 37,
   "metadata": {},
   "outputs": [
    {
     "data": {
      "text/html": [
       "<div>\n",
       "<style>\n",
       "    .dataframe thead tr:only-child th {\n",
       "        text-align: right;\n",
       "    }\n",
       "\n",
       "    .dataframe thead th {\n",
       "        text-align: left;\n",
       "    }\n",
       "\n",
       "    .dataframe tbody tr th {\n",
       "        vertical-align: top;\n",
       "    }\n",
       "</style>\n",
       "<table border=\"1\" class=\"dataframe\">\n",
       "  <thead>\n",
       "    <tr style=\"text-align: right;\">\n",
       "      <th></th>\n",
       "      <th>A</th>\n",
       "      <th>B</th>\n",
       "    </tr>\n",
       "  </thead>\n",
       "  <tbody>\n",
       "    <tr>\n",
       "      <th>bb</th>\n",
       "      <td>6</td>\n",
       "      <td>30</td>\n",
       "    </tr>\n",
       "    <tr>\n",
       "      <th>cc</th>\n",
       "      <td>7</td>\n",
       "      <td>40</td>\n",
       "    </tr>\n",
       "  </tbody>\n",
       "</table>\n",
       "</div>"
      ],
      "text/plain": [
       "    A   B\n",
       "bb  6  30\n",
       "cc  7  40"
      ]
     },
     "execution_count": 37,
     "metadata": {},
     "output_type": "execute_result"
    }
   ],
   "source": [
    "# Print all a vlaues and B Values for which A>=5 and B>20\n",
    "df[(df.A>=5) & (df.B>20)][['A','B']] # or df[df[A]>=5][['A','B']] "
   ]
  },
  {
   "cell_type": "code",
   "execution_count": null,
   "metadata": {
    "collapsed": true
   },
   "outputs": [],
   "source": [
    "# merging datasets"
   ]
  },
  {
   "cell_type": "code",
   "execution_count": 38,
   "metadata": {},
   "outputs": [
    {
     "name": "stdout",
     "output_type": "stream",
     "text": [
      "df1: \n",
      "  key  val1\n",
      "0   a     1\n",
      "1   b     2\n",
      "2   e     9\n",
      "3   f    10\n",
      "df 2\n",
      "  key  val2\n",
      "0   a     4\n",
      "1   b     5\n",
      "2   c     6\n",
      "3   d     7\n"
     ]
    }
   ],
   "source": [
    "df1  = pd.DataFrame({'key': ['a', 'b','e','f'], 'val1': [1, 2,9,10]})\n",
    "df2 = pd.DataFrame({'key': ['a', 'b','c','d'], 'val2': [4, 5,6,7]})\n",
    "\n",
    "print(\"df1: \")\n",
    "print(df1)\n",
    "\n",
    "print(\"df 2\")\n",
    "print(df2)"
   ]
  },
  {
   "cell_type": "code",
   "execution_count": 39,
   "metadata": {},
   "outputs": [
    {
     "name": "stdout",
     "output_type": "stream",
     "text": [
      "  key  val1  val2\n",
      "0   a     1     4\n",
      "1   b     2     5\n"
     ]
    }
   ],
   "source": [
    "print(pd.merge(df1, df2, on = 'key'))"
   ]
  },
  {
   "cell_type": "code",
   "execution_count": 40,
   "metadata": {},
   "outputs": [
    {
     "data": {
      "text/html": [
       "<div>\n",
       "<style>\n",
       "    .dataframe thead tr:only-child th {\n",
       "        text-align: right;\n",
       "    }\n",
       "\n",
       "    .dataframe thead th {\n",
       "        text-align: left;\n",
       "    }\n",
       "\n",
       "    .dataframe tbody tr th {\n",
       "        vertical-align: top;\n",
       "    }\n",
       "</style>\n",
       "<table border=\"1\" class=\"dataframe\">\n",
       "  <thead>\n",
       "    <tr style=\"text-align: right;\">\n",
       "      <th></th>\n",
       "      <th>key</th>\n",
       "      <th>val1</th>\n",
       "      <th>val2</th>\n",
       "    </tr>\n",
       "  </thead>\n",
       "  <tbody>\n",
       "    <tr>\n",
       "      <th>0</th>\n",
       "      <td>a</td>\n",
       "      <td>1.0</td>\n",
       "      <td>4.0</td>\n",
       "    </tr>\n",
       "    <tr>\n",
       "      <th>1</th>\n",
       "      <td>b</td>\n",
       "      <td>2.0</td>\n",
       "      <td>5.0</td>\n",
       "    </tr>\n",
       "    <tr>\n",
       "      <th>2</th>\n",
       "      <td>e</td>\n",
       "      <td>9.0</td>\n",
       "      <td>NaN</td>\n",
       "    </tr>\n",
       "    <tr>\n",
       "      <th>3</th>\n",
       "      <td>f</td>\n",
       "      <td>10.0</td>\n",
       "      <td>NaN</td>\n",
       "    </tr>\n",
       "    <tr>\n",
       "      <th>4</th>\n",
       "      <td>c</td>\n",
       "      <td>NaN</td>\n",
       "      <td>6.0</td>\n",
       "    </tr>\n",
       "    <tr>\n",
       "      <th>5</th>\n",
       "      <td>d</td>\n",
       "      <td>NaN</td>\n",
       "      <td>7.0</td>\n",
       "    </tr>\n",
       "  </tbody>\n",
       "</table>\n",
       "</div>"
      ],
      "text/plain": [
       "  key  val1  val2\n",
       "0   a   1.0   4.0\n",
       "1   b   2.0   5.0\n",
       "2   e   9.0   NaN\n",
       "3   f  10.0   NaN\n",
       "4   c   NaN   6.0\n",
       "5   d   NaN   7.0"
      ]
     },
     "execution_count": 40,
     "metadata": {},
     "output_type": "execute_result"
    }
   ],
   "source": [
    "pd.merge(df1,df2, left_on='key', right_on='key', how='outer')"
   ]
  },
  {
   "cell_type": "code",
   "execution_count": 41,
   "metadata": {},
   "outputs": [
    {
     "data": {
      "text/html": [
       "<div>\n",
       "<style>\n",
       "    .dataframe thead tr:only-child th {\n",
       "        text-align: right;\n",
       "    }\n",
       "\n",
       "    .dataframe thead th {\n",
       "        text-align: left;\n",
       "    }\n",
       "\n",
       "    .dataframe tbody tr th {\n",
       "        vertical-align: top;\n",
       "    }\n",
       "</style>\n",
       "<table border=\"1\" class=\"dataframe\">\n",
       "  <thead>\n",
       "    <tr style=\"text-align: right;\">\n",
       "      <th></th>\n",
       "      <th>key</th>\n",
       "      <th>val1</th>\n",
       "      <th>val2</th>\n",
       "    </tr>\n",
       "  </thead>\n",
       "  <tbody>\n",
       "    <tr>\n",
       "      <th>0</th>\n",
       "      <td>a</td>\n",
       "      <td>1</td>\n",
       "      <td>4.0</td>\n",
       "    </tr>\n",
       "    <tr>\n",
       "      <th>1</th>\n",
       "      <td>b</td>\n",
       "      <td>2</td>\n",
       "      <td>5.0</td>\n",
       "    </tr>\n",
       "    <tr>\n",
       "      <th>2</th>\n",
       "      <td>e</td>\n",
       "      <td>9</td>\n",
       "      <td>NaN</td>\n",
       "    </tr>\n",
       "    <tr>\n",
       "      <th>3</th>\n",
       "      <td>f</td>\n",
       "      <td>10</td>\n",
       "      <td>NaN</td>\n",
       "    </tr>\n",
       "  </tbody>\n",
       "</table>\n",
       "</div>"
      ],
      "text/plain": [
       "  key  val1  val2\n",
       "0   a     1   4.0\n",
       "1   b     2   5.0\n",
       "2   e     9   NaN\n",
       "3   f    10   NaN"
      ]
     },
     "execution_count": 41,
     "metadata": {},
     "output_type": "execute_result"
    }
   ],
   "source": [
    "pd.merge(df1,df2, left_on='key', right_on='key', how='left')"
   ]
  },
  {
   "cell_type": "code",
   "execution_count": 42,
   "metadata": {},
   "outputs": [
    {
     "data": {
      "text/html": [
       "<div>\n",
       "<style>\n",
       "    .dataframe thead tr:only-child th {\n",
       "        text-align: right;\n",
       "    }\n",
       "\n",
       "    .dataframe thead th {\n",
       "        text-align: left;\n",
       "    }\n",
       "\n",
       "    .dataframe tbody tr th {\n",
       "        vertical-align: top;\n",
       "    }\n",
       "</style>\n",
       "<table border=\"1\" class=\"dataframe\">\n",
       "  <thead>\n",
       "    <tr style=\"text-align: right;\">\n",
       "      <th></th>\n",
       "      <th>key</th>\n",
       "      <th>val1</th>\n",
       "      <th>val2</th>\n",
       "    </tr>\n",
       "  </thead>\n",
       "  <tbody>\n",
       "    <tr>\n",
       "      <th>0</th>\n",
       "      <td>a</td>\n",
       "      <td>1.0</td>\n",
       "      <td>4</td>\n",
       "    </tr>\n",
       "    <tr>\n",
       "      <th>1</th>\n",
       "      <td>b</td>\n",
       "      <td>2.0</td>\n",
       "      <td>5</td>\n",
       "    </tr>\n",
       "    <tr>\n",
       "      <th>2</th>\n",
       "      <td>c</td>\n",
       "      <td>NaN</td>\n",
       "      <td>6</td>\n",
       "    </tr>\n",
       "    <tr>\n",
       "      <th>3</th>\n",
       "      <td>d</td>\n",
       "      <td>NaN</td>\n",
       "      <td>7</td>\n",
       "    </tr>\n",
       "  </tbody>\n",
       "</table>\n",
       "</div>"
      ],
      "text/plain": [
       "  key  val1  val2\n",
       "0   a   1.0     4\n",
       "1   b   2.0     5\n",
       "2   c   NaN     6\n",
       "3   d   NaN     7"
      ]
     },
     "execution_count": 42,
     "metadata": {},
     "output_type": "execute_result"
    }
   ],
   "source": [
    "pd.merge(df1,df2, left_on='key', right_on='key', how='right')"
   ]
  },
  {
   "cell_type": "code",
   "execution_count": 43,
   "metadata": {},
   "outputs": [
    {
     "data": {
      "text/html": [
       "<div>\n",
       "<style>\n",
       "    .dataframe thead tr:only-child th {\n",
       "        text-align: right;\n",
       "    }\n",
       "\n",
       "    .dataframe thead th {\n",
       "        text-align: left;\n",
       "    }\n",
       "\n",
       "    .dataframe tbody tr th {\n",
       "        vertical-align: top;\n",
       "    }\n",
       "</style>\n",
       "<table border=\"1\" class=\"dataframe\">\n",
       "  <thead>\n",
       "    <tr style=\"text-align: right;\">\n",
       "      <th></th>\n",
       "      <th>key</th>\n",
       "      <th>val1</th>\n",
       "      <th>val2</th>\n",
       "    </tr>\n",
       "  </thead>\n",
       "  <tbody>\n",
       "    <tr>\n",
       "      <th>0</th>\n",
       "      <td>a</td>\n",
       "      <td>1.0</td>\n",
       "      <td>NaN</td>\n",
       "    </tr>\n",
       "    <tr>\n",
       "      <th>1</th>\n",
       "      <td>b</td>\n",
       "      <td>2.0</td>\n",
       "      <td>NaN</td>\n",
       "    </tr>\n",
       "    <tr>\n",
       "      <th>2</th>\n",
       "      <td>e</td>\n",
       "      <td>9.0</td>\n",
       "      <td>NaN</td>\n",
       "    </tr>\n",
       "    <tr>\n",
       "      <th>3</th>\n",
       "      <td>f</td>\n",
       "      <td>10.0</td>\n",
       "      <td>NaN</td>\n",
       "    </tr>\n",
       "    <tr>\n",
       "      <th>0</th>\n",
       "      <td>a</td>\n",
       "      <td>NaN</td>\n",
       "      <td>4.0</td>\n",
       "    </tr>\n",
       "    <tr>\n",
       "      <th>1</th>\n",
       "      <td>b</td>\n",
       "      <td>NaN</td>\n",
       "      <td>5.0</td>\n",
       "    </tr>\n",
       "    <tr>\n",
       "      <th>2</th>\n",
       "      <td>c</td>\n",
       "      <td>NaN</td>\n",
       "      <td>6.0</td>\n",
       "    </tr>\n",
       "    <tr>\n",
       "      <th>3</th>\n",
       "      <td>d</td>\n",
       "      <td>NaN</td>\n",
       "      <td>7.0</td>\n",
       "    </tr>\n",
       "  </tbody>\n",
       "</table>\n",
       "</div>"
      ],
      "text/plain": [
       "  key  val1  val2\n",
       "0   a   1.0   NaN\n",
       "1   b   2.0   NaN\n",
       "2   e   9.0   NaN\n",
       "3   f  10.0   NaN\n",
       "0   a   NaN   4.0\n",
       "1   b   NaN   5.0\n",
       "2   c   NaN   6.0\n",
       "3   d   NaN   7.0"
      ]
     },
     "execution_count": 43,
     "metadata": {},
     "output_type": "execute_result"
    }
   ],
   "source": [
    "pd.concat([df1, df2], axis = 0)\n"
   ]
  },
  {
   "cell_type": "code",
   "execution_count": 44,
   "metadata": {},
   "outputs": [
    {
     "data": {
      "text/html": [
       "<div>\n",
       "<style>\n",
       "    .dataframe thead tr:only-child th {\n",
       "        text-align: right;\n",
       "    }\n",
       "\n",
       "    .dataframe thead th {\n",
       "        text-align: left;\n",
       "    }\n",
       "\n",
       "    .dataframe tbody tr th {\n",
       "        vertical-align: top;\n",
       "    }\n",
       "</style>\n",
       "<table border=\"1\" class=\"dataframe\">\n",
       "  <thead>\n",
       "    <tr style=\"text-align: right;\">\n",
       "      <th></th>\n",
       "      <th>key</th>\n",
       "      <th>val1</th>\n",
       "      <th>key</th>\n",
       "      <th>val2</th>\n",
       "    </tr>\n",
       "  </thead>\n",
       "  <tbody>\n",
       "    <tr>\n",
       "      <th>0</th>\n",
       "      <td>a</td>\n",
       "      <td>1</td>\n",
       "      <td>a</td>\n",
       "      <td>4</td>\n",
       "    </tr>\n",
       "    <tr>\n",
       "      <th>1</th>\n",
       "      <td>b</td>\n",
       "      <td>2</td>\n",
       "      <td>b</td>\n",
       "      <td>5</td>\n",
       "    </tr>\n",
       "    <tr>\n",
       "      <th>2</th>\n",
       "      <td>e</td>\n",
       "      <td>9</td>\n",
       "      <td>c</td>\n",
       "      <td>6</td>\n",
       "    </tr>\n",
       "    <tr>\n",
       "      <th>3</th>\n",
       "      <td>f</td>\n",
       "      <td>10</td>\n",
       "      <td>d</td>\n",
       "      <td>7</td>\n",
       "    </tr>\n",
       "  </tbody>\n",
       "</table>\n",
       "</div>"
      ],
      "text/plain": [
       "  key  val1 key  val2\n",
       "0   a     1   a     4\n",
       "1   b     2   b     5\n",
       "2   e     9   c     6\n",
       "3   f    10   d     7"
      ]
     },
     "execution_count": 44,
     "metadata": {},
     "output_type": "execute_result"
    }
   ],
   "source": [
    "pd.concat([df1, df2], axis = 1)"
   ]
  },
  {
   "cell_type": "code",
   "execution_count": null,
   "metadata": {
    "collapsed": true
   },
   "outputs": [],
   "source": [
    "# reshaping data : Data wrangling"
   ]
  },
  {
   "cell_type": "code",
   "execution_count": 45,
   "metadata": {},
   "outputs": [
    {
     "name": "stdout",
     "output_type": "stream",
     "text": [
      "  Country  GDPpC  Year\n",
      "0      IN     83  1960\n",
      "1      IN    114  1970\n",
      "2      IN    375  1990\n",
      "3      SL    143  1960\n",
      "4      SL    183  1970\n",
      "5      SL    472  1990\n"
     ]
    }
   ],
   "source": [
    "long_data = pd.DataFrame({'Country': ['IN', 'IN', 'IN', 'SL', 'SL', 'SL'],\n",
    "                         'Year':[1960, 1970, 1990,1960, 1970, 1990  ],\n",
    "                         'GDPpC': [83, 114, 375, 143, 183,472]})\n",
    "print(long_data)"
   ]
  },
  {
   "cell_type": "code",
   "execution_count": 46,
   "metadata": {},
   "outputs": [
    {
     "name": "stdout",
     "output_type": "stream",
     "text": [
      "Year     1960  1970  1990\n",
      "Country                  \n",
      "IN         83   114   375\n",
      "SL        143   183   472\n"
     ]
    }
   ],
   "source": [
    "print(long_data.pivot('Country', 'Year', 'GDPpC'))"
   ]
  },
  {
   "cell_type": "code",
   "execution_count": null,
   "metadata": {
    "collapsed": true
   },
   "outputs": [],
   "source": [
    "# replacing values. "
   ]
  },
  {
   "cell_type": "code",
   "execution_count": 48,
   "metadata": {},
   "outputs": [
    {
     "name": "stdout",
     "output_type": "stream",
     "text": [
      "0      1.0\n",
      "1   -999.0\n",
      "2      0.5\n",
      "3      0.4\n",
      "dtype: float64\n"
     ]
    }
   ],
   "source": [
    "data = pd.Series([1, -999, 0.5,  0.4])\n",
    "print(data)"
   ]
  },
  {
   "cell_type": "code",
   "execution_count": 49,
   "metadata": {},
   "outputs": [
    {
     "data": {
      "text/plain": [
       "0    1.0\n",
       "1    0.0\n",
       "2    0.5\n",
       "3    0.4\n",
       "dtype: float64"
      ]
     },
     "execution_count": 49,
     "metadata": {},
     "output_type": "execute_result"
    }
   ],
   "source": [
    "data.replace(-999, 0)"
   ]
  },
  {
   "cell_type": "code",
   "execution_count": 50,
   "metadata": {},
   "outputs": [
    {
     "data": {
      "text/plain": [
       "0    1.0\n",
       "2    0.5\n",
       "3    0.4\n",
       "dtype: float64"
      ]
     },
     "execution_count": 50,
     "metadata": {},
     "output_type": "execute_result"
    }
   ],
   "source": [
    "data[ data > -999]"
   ]
  },
  {
   "cell_type": "code",
   "execution_count": null,
   "metadata": {
    "collapsed": true
   },
   "outputs": [],
   "source": [
    "# group by demo! "
   ]
  },
  {
   "cell_type": "code",
   "execution_count": 51,
   "metadata": {},
   "outputs": [
    {
     "data": {
      "text/html": [
       "<div>\n",
       "<style>\n",
       "    .dataframe thead tr:only-child th {\n",
       "        text-align: right;\n",
       "    }\n",
       "\n",
       "    .dataframe thead th {\n",
       "        text-align: left;\n",
       "    }\n",
       "\n",
       "    .dataframe tbody tr th {\n",
       "        vertical-align: top;\n",
       "    }\n",
       "</style>\n",
       "<table border=\"1\" class=\"dataframe\">\n",
       "  <thead>\n",
       "    <tr style=\"text-align: right;\">\n",
       "      <th></th>\n",
       "      <th>group</th>\n",
       "      <th>value</th>\n",
       "    </tr>\n",
       "  </thead>\n",
       "  <tbody>\n",
       "    <tr>\n",
       "      <th>0</th>\n",
       "      <td>a</td>\n",
       "      <td>12</td>\n",
       "    </tr>\n",
       "    <tr>\n",
       "      <th>1</th>\n",
       "      <td>a</td>\n",
       "      <td>10</td>\n",
       "    </tr>\n",
       "    <tr>\n",
       "      <th>2</th>\n",
       "      <td>b</td>\n",
       "      <td>3</td>\n",
       "    </tr>\n",
       "    <tr>\n",
       "      <th>3</th>\n",
       "      <td>b</td>\n",
       "      <td>6</td>\n",
       "    </tr>\n",
       "  </tbody>\n",
       "</table>\n",
       "</div>"
      ],
      "text/plain": [
       "  group  value\n",
       "0     a     12\n",
       "1     a     10\n",
       "2     b      3\n",
       "3     b      6"
      ]
     },
     "execution_count": 51,
     "metadata": {},
     "output_type": "execute_result"
    }
   ],
   "source": [
    "dataframe = pd.DataFrame({'group': ['a', 'a', 'b', 'b'],\n",
    "                         'value':[12, 10, 3, 6]})\n",
    "dataframe\n"
   ]
  },
  {
   "cell_type": "code",
   "execution_count": 52,
   "metadata": {},
   "outputs": [
    {
     "name": "stdout",
     "output_type": "stream",
     "text": [
      "<pandas.core.groupby.DataFrameGroupBy object at 0x0000020BBD9125F8>\n"
     ]
    }
   ],
   "source": [
    "grouped = dataframe.groupby('group')\n",
    "print(grouped)"
   ]
  },
  {
   "cell_type": "code",
   "execution_count": 53,
   "metadata": {},
   "outputs": [
    {
     "name": "stdout",
     "output_type": "stream",
     "text": [
      "       value\n",
      "group       \n",
      "a       11.0\n",
      "b        4.5\n"
     ]
    }
   ],
   "source": [
    "print(grouped.mean())"
   ]
  },
  {
   "cell_type": "code",
   "execution_count": 54,
   "metadata": {},
   "outputs": [
    {
     "name": "stdout",
     "output_type": "stream",
     "text": [
      "       value\n",
      "group       \n",
      "a         22\n",
      "b          9\n"
     ]
    }
   ],
   "source": [
    "print(grouped.sum())"
   ]
  },
  {
   "cell_type": "code",
   "execution_count": 56,
   "metadata": {},
   "outputs": [
    {
     "name": "stdout",
     "output_type": "stream",
     "text": [
      "       value\n",
      "group       \n",
      "a       11.0\n",
      "b        4.5\n"
     ]
    }
   ],
   "source": [
    "print(grouped.apply(np.mean))"
   ]
  },
  {
   "cell_type": "code",
   "execution_count": null,
   "metadata": {
    "collapsed": true
   },
   "outputs": [],
   "source": [
    "## apply working on dataframes directly. "
   ]
  },
  {
   "cell_type": "code",
   "execution_count": 57,
   "metadata": {},
   "outputs": [
    {
     "data": {
      "text/html": [
       "<div>\n",
       "<style>\n",
       "    .dataframe thead tr:only-child th {\n",
       "        text-align: right;\n",
       "    }\n",
       "\n",
       "    .dataframe thead th {\n",
       "        text-align: left;\n",
       "    }\n",
       "\n",
       "    .dataframe tbody tr th {\n",
       "        vertical-align: top;\n",
       "    }\n",
       "</style>\n",
       "<table border=\"1\" class=\"dataframe\">\n",
       "  <thead>\n",
       "    <tr style=\"text-align: right;\">\n",
       "      <th></th>\n",
       "      <th>0</th>\n",
       "      <th>1</th>\n",
       "      <th>2</th>\n",
       "      <th>3</th>\n",
       "    </tr>\n",
       "  </thead>\n",
       "  <tbody>\n",
       "    <tr>\n",
       "      <th>0</th>\n",
       "      <td>-2.109371</td>\n",
       "      <td>-1.016475</td>\n",
       "      <td>1.238894</td>\n",
       "      <td>0.084140</td>\n",
       "    </tr>\n",
       "    <tr>\n",
       "      <th>1</th>\n",
       "      <td>1.726323</td>\n",
       "      <td>0.894467</td>\n",
       "      <td>1.084397</td>\n",
       "      <td>-0.015426</td>\n",
       "    </tr>\n",
       "    <tr>\n",
       "      <th>2</th>\n",
       "      <td>0.263384</td>\n",
       "      <td>0.018401</td>\n",
       "      <td>-0.674319</td>\n",
       "      <td>0.557972</td>\n",
       "    </tr>\n",
       "    <tr>\n",
       "      <th>3</th>\n",
       "      <td>-0.961720</td>\n",
       "      <td>-0.155041</td>\n",
       "      <td>-1.860739</td>\n",
       "      <td>0.398356</td>\n",
       "    </tr>\n",
       "    <tr>\n",
       "      <th>4</th>\n",
       "      <td>1.215131</td>\n",
       "      <td>1.046687</td>\n",
       "      <td>0.900552</td>\n",
       "      <td>0.488016</td>\n",
       "    </tr>\n",
       "    <tr>\n",
       "      <th>5</th>\n",
       "      <td>0.459454</td>\n",
       "      <td>-0.207935</td>\n",
       "      <td>-0.677847</td>\n",
       "      <td>-0.245421</td>\n",
       "    </tr>\n",
       "    <tr>\n",
       "      <th>6</th>\n",
       "      <td>0.735795</td>\n",
       "      <td>-0.588969</td>\n",
       "      <td>0.352175</td>\n",
       "      <td>-1.006086</td>\n",
       "    </tr>\n",
       "    <tr>\n",
       "      <th>7</th>\n",
       "      <td>1.122580</td>\n",
       "      <td>1.801394</td>\n",
       "      <td>0.750723</td>\n",
       "      <td>-0.612714</td>\n",
       "    </tr>\n",
       "    <tr>\n",
       "      <th>8</th>\n",
       "      <td>-0.373756</td>\n",
       "      <td>-0.339705</td>\n",
       "      <td>-0.256802</td>\n",
       "      <td>1.152246</td>\n",
       "    </tr>\n",
       "    <tr>\n",
       "      <th>9</th>\n",
       "      <td>-1.066542</td>\n",
       "      <td>0.552025</td>\n",
       "      <td>1.299434</td>\n",
       "      <td>-0.748100</td>\n",
       "    </tr>\n",
       "    <tr>\n",
       "      <th>10</th>\n",
       "      <td>0.071929</td>\n",
       "      <td>0.364481</td>\n",
       "      <td>-0.649970</td>\n",
       "      <td>0.598003</td>\n",
       "    </tr>\n",
       "    <tr>\n",
       "      <th>11</th>\n",
       "      <td>1.309806</td>\n",
       "      <td>1.775405</td>\n",
       "      <td>-0.306250</td>\n",
       "      <td>-0.265474</td>\n",
       "    </tr>\n",
       "    <tr>\n",
       "      <th>12</th>\n",
       "      <td>0.227505</td>\n",
       "      <td>1.364614</td>\n",
       "      <td>-0.880800</td>\n",
       "      <td>2.226822</td>\n",
       "    </tr>\n",
       "    <tr>\n",
       "      <th>13</th>\n",
       "      <td>0.846884</td>\n",
       "      <td>0.955145</td>\n",
       "      <td>-0.690233</td>\n",
       "      <td>0.263751</td>\n",
       "    </tr>\n",
       "    <tr>\n",
       "      <th>14</th>\n",
       "      <td>1.614539</td>\n",
       "      <td>2.423093</td>\n",
       "      <td>1.234466</td>\n",
       "      <td>0.210085</td>\n",
       "    </tr>\n",
       "    <tr>\n",
       "      <th>15</th>\n",
       "      <td>-0.399550</td>\n",
       "      <td>-0.422160</td>\n",
       "      <td>-0.032134</td>\n",
       "      <td>-0.719808</td>\n",
       "    </tr>\n",
       "    <tr>\n",
       "      <th>16</th>\n",
       "      <td>0.539338</td>\n",
       "      <td>0.202908</td>\n",
       "      <td>-0.566017</td>\n",
       "      <td>-0.627735</td>\n",
       "    </tr>\n",
       "    <tr>\n",
       "      <th>17</th>\n",
       "      <td>-0.202931</td>\n",
       "      <td>0.135110</td>\n",
       "      <td>-1.465995</td>\n",
       "      <td>-0.354147</td>\n",
       "    </tr>\n",
       "    <tr>\n",
       "      <th>18</th>\n",
       "      <td>-0.700994</td>\n",
       "      <td>-0.594814</td>\n",
       "      <td>-1.653390</td>\n",
       "      <td>0.318820</td>\n",
       "    </tr>\n",
       "    <tr>\n",
       "      <th>19</th>\n",
       "      <td>0.976697</td>\n",
       "      <td>-1.286891</td>\n",
       "      <td>-0.609913</td>\n",
       "      <td>0.409838</td>\n",
       "    </tr>\n",
       "  </tbody>\n",
       "</table>\n",
       "</div>"
      ],
      "text/plain": [
       "           0         1         2         3\n",
       "0  -2.109371 -1.016475  1.238894  0.084140\n",
       "1   1.726323  0.894467  1.084397 -0.015426\n",
       "2   0.263384  0.018401 -0.674319  0.557972\n",
       "3  -0.961720 -0.155041 -1.860739  0.398356\n",
       "4   1.215131  1.046687  0.900552  0.488016\n",
       "5   0.459454 -0.207935 -0.677847 -0.245421\n",
       "6   0.735795 -0.588969  0.352175 -1.006086\n",
       "7   1.122580  1.801394  0.750723 -0.612714\n",
       "8  -0.373756 -0.339705 -0.256802  1.152246\n",
       "9  -1.066542  0.552025  1.299434 -0.748100\n",
       "10  0.071929  0.364481 -0.649970  0.598003\n",
       "11  1.309806  1.775405 -0.306250 -0.265474\n",
       "12  0.227505  1.364614 -0.880800  2.226822\n",
       "13  0.846884  0.955145 -0.690233  0.263751\n",
       "14  1.614539  2.423093  1.234466  0.210085\n",
       "15 -0.399550 -0.422160 -0.032134 -0.719808\n",
       "16  0.539338  0.202908 -0.566017 -0.627735\n",
       "17 -0.202931  0.135110 -1.465995 -0.354147\n",
       "18 -0.700994 -0.594814 -1.653390  0.318820\n",
       "19  0.976697 -1.286891 -0.609913  0.409838"
      ]
     },
     "execution_count": 57,
     "metadata": {},
     "output_type": "execute_result"
    }
   ],
   "source": [
    "dataframe =  pd.DataFrame(np.random.randn(20, 4))\n",
    "dataframe"
   ]
  },
  {
   "cell_type": "code",
   "execution_count": 58,
   "metadata": {},
   "outputs": [
    {
     "data": {
      "text/plain": [
       "0    -0.450703\n",
       "1     0.922440\n",
       "2     0.041360\n",
       "3    -0.644786\n",
       "4     0.912597\n",
       "5    -0.167937\n",
       "6    -0.126771\n",
       "7     0.765496\n",
       "8     0.045496\n",
       "9     0.009204\n",
       "10    0.096111\n",
       "11    0.628372\n",
       "12    0.734535\n",
       "13    0.343887\n",
       "14    1.370546\n",
       "15   -0.393413\n",
       "16   -0.112876\n",
       "17   -0.471991\n",
       "18   -0.657594\n",
       "19   -0.127567\n",
       "dtype: float64"
      ]
     },
     "execution_count": 58,
     "metadata": {},
     "output_type": "execute_result"
    }
   ],
   "source": [
    "#Compute mean of every row\n",
    "dataframe.apply(np.mean, axis = 1 )"
   ]
  },
  {
   "cell_type": "code",
   "execution_count": 59,
   "metadata": {},
   "outputs": [
    {
     "data": {
      "text/plain": [
       "0    0.264725\n",
       "1    0.346087\n",
       "2   -0.173189\n",
       "3    0.105657\n",
       "dtype: float64"
      ]
     },
     "execution_count": 59,
     "metadata": {},
     "output_type": "execute_result"
    }
   ],
   "source": [
    "#Copute mean of every column \n",
    "dataframe.apply(np.mean, axis = 0)"
   ]
  },
  {
   "cell_type": "code",
   "execution_count": null,
   "metadata": {
    "collapsed": true
   },
   "outputs": [],
   "source": [
    "## lambda operators. \n"
   ]
  },
  {
   "cell_type": "code",
   "execution_count": 60,
   "metadata": {},
   "outputs": [
    {
     "data": {
      "text/plain": [
       "6"
      ]
     },
     "execution_count": 60,
     "metadata": {},
     "output_type": "execute_result"
    }
   ],
   "source": [
    "f = lambda x, y: x + y\n",
    "f(1, 5)"
   ]
  },
  {
   "cell_type": "code",
   "execution_count": 62,
   "metadata": {},
   "outputs": [
    {
     "name": "stdout",
     "output_type": "stream",
     "text": [
      "           0         1         2         3\n",
      "0  -2.374096 -1.362561  1.412082 -0.021517\n",
      "1   1.461598  0.548380  1.257586 -0.121083\n",
      "2  -0.001341 -0.327686 -0.501130  0.452315\n",
      "3  -1.226445 -0.501127 -1.687551  0.292699\n",
      "4   0.950406  0.700600  1.073741  0.382359\n",
      "5   0.194729 -0.554022 -0.504659 -0.351078\n",
      "6   0.471070 -0.935056  0.525363 -1.111743\n",
      "7   0.857855  1.455307  0.923911 -0.718371\n",
      "8  -0.638481 -0.685792 -0.083614  1.046590\n",
      "9  -1.331267  0.205938  1.472623 -0.853757\n",
      "10 -0.192796  0.018394 -0.476782  0.492346\n",
      "11  1.045081  1.429318 -0.133062 -0.371131\n",
      "12 -0.037220  1.018527 -0.707612  2.121165\n",
      "13  0.582159  0.609058 -0.517045  0.158094\n",
      "14  1.349814  2.077006  1.407655  0.104428\n",
      "15 -0.664275 -0.768247  0.141054 -0.825465\n",
      "16  0.274613 -0.143179 -0.392829 -0.733392\n",
      "17 -0.467656 -0.210977 -1.292806 -0.459804\n",
      "18 -0.965719 -0.940901 -1.480202  0.213164\n",
      "19  0.711972 -1.632978 -0.436724  0.304181\n"
     ]
    }
   ],
   "source": [
    "print(dataframe.apply(lambda x : (x - np.mean(x)), axis = 0))"
   ]
  },
  {
   "cell_type": "code",
   "execution_count": null,
   "metadata": {
    "collapsed": true
   },
   "outputs": [],
   "source": []
  }
 ],
 "metadata": {
  "anaconda-cloud": {},
  "kernelspec": {
   "display_name": "Python 3",
   "language": "python",
   "name": "python3"
  },
  "language_info": {
   "codemirror_mode": {
    "name": "ipython",
    "version": 3
   },
   "file_extension": ".py",
   "mimetype": "text/x-python",
   "name": "python",
   "nbconvert_exporter": "python",
   "pygments_lexer": "ipython3",
   "version": "3.6.3"
  }
 },
 "nbformat": 4,
 "nbformat_minor": 1
}
