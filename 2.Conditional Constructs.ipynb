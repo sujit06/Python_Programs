{
 "cells": [
  {
   "cell_type": "code",
   "execution_count": 1,
   "metadata": {},
   "outputs": [
    {
     "name": "stdout",
     "output_type": "stream",
     "text": [
      "True\n",
      "False\n",
      "<class 'bool'>\n",
      "<class 'bool'>\n"
     ]
    }
   ],
   "source": [
    "# Conditional Execution\n",
    "\n",
    "print(5 == 5)\n",
    "print(5 == 6)\n",
    "print(type(True))\n",
    "print(type(False))"
   ]
  },
  {
   "cell_type": "code",
   "execution_count": 2,
   "metadata": {},
   "outputs": [
    {
     "name": "stdout",
     "output_type": "stream",
     "text": [
      "outside if\n"
     ]
    }
   ],
   "source": [
    "x=25\n",
    "if x < 0 :\n",
    "        print('x is positive')\n",
    "        print('second line in if')\n",
    "print('outside if')"
   ]
  },
  {
   "cell_type": "code",
   "execution_count": 3,
   "metadata": {},
   "outputs": [
    {
     "name": "stdout",
     "output_type": "stream",
     "text": [
      "x is odd\n"
     ]
    }
   ],
   "source": [
    "# To Check if a number is even or ODD\n",
    "x=33\n",
    "if x%2 == 0 :\n",
    "    print('x is even')\n",
    "else :\n",
    "    print('x is odd')"
   ]
  },
  {
   "cell_type": "code",
   "execution_count": 4,
   "metadata": {},
   "outputs": [
    {
     "name": "stdout",
     "output_type": "stream",
     "text": [
      "Enter a number 12\n",
      "12 is even\n"
     ]
    }
   ],
   "source": [
    "# Taking input from user\n",
    "x=int(input(\"Enter a number \"))\n",
    "if x%2 == 0:\n",
    "    print(str(x) + ' is even')\n",
    "else:\n",
    "    print(str(x) + ' is odd')"
   ]
  },
  {
   "cell_type": "code",
   "execution_count": 5,
   "metadata": {},
   "outputs": [
    {
     "name": "stdout",
     "output_type": "stream",
     "text": [
      "Enter a number 13\n",
      "13  is odd\n"
     ]
    }
   ],
   "source": [
    "# Taking input from user\n",
    "x=int(input(\"Enter a number \"))\n",
    "if x%2 == 0:\n",
    "    print(x , ' is even')\n",
    "else:\n",
    "    print(x, ' is odd')"
   ]
  },
  {
   "cell_type": "code",
   "execution_count": 7,
   "metadata": {
    "collapsed": true
   },
   "outputs": [],
   "source": [
    "# using And operator\n",
    "if 0 < x and x < 10:\n",
    "    print('x is a positive single-digit number.')"
   ]
  },
  {
   "cell_type": "code",
   "execution_count": 6,
   "metadata": {},
   "outputs": [
    {
     "name": "stdout",
     "output_type": "stream",
     "text": [
      "False\n"
     ]
    }
   ],
   "source": [
    "#Short circuit evaluations in python\n",
    "x=1\n",
    "y=0\n",
    "print(x>=2 and (x/y >2)) #change x>= to <= and see the change in o/p"
   ]
  },
  {
   "cell_type": "code",
   "execution_count": 8,
   "metadata": {},
   "outputs": [
    {
     "name": "stdout",
     "output_type": "stream",
     "text": [
      "True\n"
     ]
    }
   ],
   "source": [
    "x=1\n",
    "y=0\n",
    "print(x<=2 or (x/y >2)) #change x<= to = and see the change in o/p"
   ]
  },
  {
   "cell_type": "code",
   "execution_count": 9,
   "metadata": {},
   "outputs": [
    {
     "name": "stdout",
     "output_type": "stream",
     "text": [
      "Enter Fahrenheit Temperature: 89\n",
      "31.666666666666668\n"
     ]
    }
   ],
   "source": [
    "# Q Write a program to convert Farenheit to celcius:\n",
    "inp = input('Enter Fahrenheit Temperature: ')\n",
    "fahr = float(inp)\n",
    "cel = (fahr - 32.0) * 5.0 / 9.0\n",
    "print(cel)"
   ]
  },
  {
   "cell_type": "code",
   "execution_count": 25,
   "metadata": {},
   "outputs": [
    {
     "name": "stdout",
     "output_type": "stream",
     "text": [
      "Enter Fahrenheit Temperature:ytf\n",
      "Please enter a number\n"
     ]
    }
   ],
   "source": [
    "#using try and except\n",
    "inp = input('Enter Fahrenheit Temperature:')\n",
    "try:\n",
    "    fahr = float(inp)\n",
    "    cel = (fahr - 32.0) * 5.0 / 9.0\n",
    "    print(cel)\n",
    "except:\n",
    "    print('Please enter a number')"
   ]
  },
  {
   "cell_type": "code",
   "execution_count": 24,
   "metadata": {},
   "outputs": [
    {
     "name": "stdout",
     "output_type": "stream",
     "text": [
      "Enter in Hours9\n",
      "Enter the Hourly Rate10\n",
      "90\n"
     ]
    }
   ],
   "source": [
    "#Q) Write a program to pay 1.5 times the hourly rate for \n",
    "# the hours worked above 40 hours\n",
    "#else pay based on hourly pay and hours worked\n",
    "#input hourly rate and hours worked and display pay\n",
    "\n",
    "hours=int(input(\"Enter in Hours\"))\n",
    "rate=int(input(\"Enter the Hourly Rate\"))\n",
    "if hours>40:\n",
    "    pay=1.5*hours*rate\n",
    "else:\n",
    "    pay=hours*rate\n",
    "print(pay)"
   ]
  },
  {
   "cell_type": "code",
   "execution_count": 35,
   "metadata": {},
   "outputs": [
    {
     "name": "stdout",
     "output_type": "stream",
     "text": [
      "Enter in Hourstyy\n",
      "Enter the Hourly Rate7\n",
      "Enter a Natural Number\n"
     ]
    }
   ],
   "source": [
    "# Q) Rewrite your pay program using try and except \n",
    "# so that your program handles non-numeric input gracefully \n",
    "# by printing a message and exiting the program. \n",
    "# The following shows two executions of the program:\n",
    "#Enter Hours: 20\n",
    "#Enter Rate: nine\n",
    "# Error, please enter numeric input\n",
    "\n",
    "hours=input(\"Enter in Hours\")\n",
    "rate=input(\"Enter the Hourly Rate\")\n",
    "try:\n",
    "    hours=int(hours)\n",
    "    rate=int(rate)\n",
    "    if hours>40:\n",
    "        pay=1.5*hours*rate\n",
    "    else:\n",
    "        pay=hours*rate\n",
    "    print(pay)\n",
    "except:\n",
    "    print(\"Enter a Natural Number\")"
   ]
  },
  {
   "cell_type": "code",
   "execution_count": 46,
   "metadata": {},
   "outputs": [
    {
     "name": "stdout",
     "output_type": "stream",
     "text": [
      "Enter a score between 0.0 and 1.0=1.1\n",
      "Bad score\n"
     ]
    }
   ],
   "source": [
    "# Write a program to prompt for a score between 0.0 and 1.0.\n",
    "# If the score is out of range, print an error message. \n",
    "# If the score is between 0.0 and 1.0, \n",
    "# print a grade using the following table:\n",
    "#Score   Grade\n",
    "#>= 0.9     A\n",
    "#>= 0.8     B\n",
    "#>= 0.7     C\n",
    "#>= 0.6     D\n",
    "#< 0.6      F\n",
    "# print 'Bad score' if the score is not between 0.0 and 1.0 or if the \n",
    "#score is not numeric value entered\n",
    "\n",
    "score=input(\"Enter a score between 0.0 and 1.0=\")\n",
    "try:\n",
    "    score=float(score)\n",
    "    if score >1.0 or score <0.0:\n",
    "        score=score/0\n",
    "    if score >=0.9 and score <=1.0:\n",
    "        print('A')\n",
    "    if score >=0.8 and score <0.9:\n",
    "        print('B')\n",
    "    if score >=0.7 and score <0.8:\n",
    "        print('C')\n",
    "    if score >=0.6 and score <0.7:\n",
    "        print('D')\n",
    "    if score <0.6 and score >=0.0:\n",
    "        print('F')\n",
    "except:\n",
    "    print(\"Bad score\")\n",
    "    \n"
   ]
  }
 ],
 "metadata": {
  "kernelspec": {
   "display_name": "Python 3",
   "language": "python",
   "name": "python3"
  },
  "language_info": {
   "codemirror_mode": {
    "name": "ipython",
    "version": 3
   },
   "file_extension": ".py",
   "mimetype": "text/x-python",
   "name": "python",
   "nbconvert_exporter": "python",
   "pygments_lexer": "ipython3",
   "version": "3.6.3"
  }
 },
 "nbformat": 4,
 "nbformat_minor": 2
}
