{
 "cells": [
  {
   "cell_type": "code",
   "execution_count": 1,
   "metadata": {
    "collapsed": true
   },
   "outputs": [],
   "source": [
    "import numpy as np\n",
    "from numpy import binary_repr as bi\n",
    "import warnings\n",
    "warnings.filterwarnings('ignore')"
   ]
  },
  {
   "cell_type": "code",
   "execution_count": 2,
   "metadata": {},
   "outputs": [
    {
     "name": "stdout",
     "output_type": "stream",
     "text": [
      "True\n"
     ]
    }
   ],
   "source": [
    "def prime(n):\n",
    "    a=np.array(range(1,n))\n",
    "    return(sum(n%a==0)==1)\n",
    "    \n",
    "def prime_factor(n):\n",
    "    b=[]\n",
    "    i=1\n",
    "    while i<n:\n",
    "        if n%i==0 and prime(i):\n",
    "            b.append(i)\n",
    "        i=i+1\n",
    "    return(b)\n",
    "\n",
    "def isComp(A,B):\n",
    "    a=prime_factor(A)\n",
    "    b=0\n",
    "    for i in a:\n",
    "        b=b+int((bi(int(bi(i,3)) ^ int(bi(7,3)),3))[-3:]==bi(B,3))\n",
    "    return(print(b>=1))\n",
    "\n",
    "isComp(50,2)\n"
   ]
  }
 ],
 "metadata": {
  "kernelspec": {
   "display_name": "Python 3",
   "language": "python",
   "name": "python3"
  },
  "language_info": {
   "codemirror_mode": {
    "name": "ipython",
    "version": 3
   },
   "file_extension": ".py",
   "mimetype": "text/x-python",
   "name": "python",
   "nbconvert_exporter": "python",
   "pygments_lexer": "ipython3",
   "version": "3.6.3"
  }
 },
 "nbformat": 4,
 "nbformat_minor": 2
}
