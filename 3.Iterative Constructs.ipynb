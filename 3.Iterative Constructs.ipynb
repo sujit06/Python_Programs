{
 "cells": [
  {
   "cell_type": "code",
   "execution_count": 1,
   "metadata": {
    "scrolled": true
   },
   "outputs": [
    {
     "name": "stdout",
     "output_type": "stream",
     "text": [
      "5\n",
      "4\n",
      "3\n",
      "2\n",
      "1\n",
      "outside while!\n"
     ]
    }
   ],
   "source": [
    "#While Loop\n",
    "n = 5\n",
    "while n > 0:\n",
    "    print(n)\n",
    "    n = n-1\n",
    "print('outside while!')"
   ]
  },
  {
   "cell_type": "code",
   "execution_count": 2,
   "metadata": {},
   "outputs": [
    {
     "name": "stdout",
     "output_type": "stream",
     "text": [
      "10\n",
      "9\n",
      "8\n",
      "7\n",
      "6\n",
      "5\n",
      "4\n",
      "3\n",
      "2\n",
      "1\n",
      "Done!\n"
     ]
    }
   ],
   "source": [
    "#Exiting a loop with break\n",
    "n = 10\n",
    "while True:\n",
    "    print(n)\n",
    "    n = n - 1\n",
    "    if n == 0:\n",
    "        break\n",
    "print('Done!')"
   ]
  },
  {
   "cell_type": "code",
   "execution_count": 3,
   "metadata": {},
   "outputs": [
    {
     "name": "stdout",
     "output_type": "stream",
     "text": [
      "Enter the input: 10\n",
      "10\n",
      "Enter the input: #\n",
      "Enter the input: done\n",
      "Done!\n"
     ]
    }
   ],
   "source": [
    "while True:\n",
    "    line = input('Enter the input: ')\n",
    "    if line == '#':\n",
    "        continue\n",
    "    if line == 'done':\n",
    "        break\n",
    "    print(line)\n",
    "print('Done!')"
   ]
  },
  {
   "cell_type": "code",
   "execution_count": null,
   "metadata": {
    "collapsed": true
   },
   "outputs": [],
   "source": []
  },
  {
   "cell_type": "code",
   "execution_count": null,
   "metadata": {
    "collapsed": true
   },
   "outputs": [],
   "source": []
  },
  {
   "cell_type": "code",
   "execution_count": null,
   "metadata": {
    "collapsed": true
   },
   "outputs": [],
   "source": []
  },
  {
   "cell_type": "code",
   "execution_count": 4,
   "metadata": {
    "scrolled": true
   },
   "outputs": [
    {
     "name": "stdout",
     "output_type": "stream",
     "text": [
      "Count:  1\n",
      "Count:  2\n",
      "Count:  3\n",
      "Count:  4\n",
      "Count:  5\n",
      "Count:  6\n"
     ]
    }
   ],
   "source": [
    "#For loops\n",
    "#To count the number of times a for loop executes\n",
    "count = 0\n",
    "for itervar in [3, 41, 12, 9, 74, 15]:\n",
    "    count = count + 1\n",
    "    print('Count: ', count)"
   ]
  },
  {
   "cell_type": "code",
   "execution_count": null,
   "metadata": {
    "collapsed": true
   },
   "outputs": [],
   "source": []
  },
  {
   "cell_type": "code",
   "execution_count": null,
   "metadata": {
    "collapsed": true
   },
   "outputs": [],
   "source": []
  },
  {
   "cell_type": "code",
   "execution_count": null,
   "metadata": {
    "collapsed": true
   },
   "outputs": [],
   "source": []
  },
  {
   "cell_type": "code",
   "execution_count": null,
   "metadata": {
    "collapsed": true
   },
   "outputs": [],
   "source": []
  },
  {
   "cell_type": "code",
   "execution_count": null,
   "metadata": {
    "collapsed": true
   },
   "outputs": [],
   "source": []
  },
  {
   "cell_type": "code",
   "execution_count": 5,
   "metadata": {},
   "outputs": [
    {
     "name": "stdout",
     "output_type": "stream",
     "text": [
      "Total:  154\n"
     ]
    }
   ],
   "source": [
    "#Find the sum of elements of a given elements\n",
    "total = 0\n",
    "for itervar in [3, 41, 12, 9, 74, 15]:\n",
    "    total = total + itervar\n",
    "print('Total: ', total)"
   ]
  },
  {
   "cell_type": "code",
   "execution_count": null,
   "metadata": {
    "collapsed": true
   },
   "outputs": [],
   "source": []
  },
  {
   "cell_type": "code",
   "execution_count": null,
   "metadata": {
    "collapsed": true
   },
   "outputs": [],
   "source": []
  },
  {
   "cell_type": "code",
   "execution_count": null,
   "metadata": {
    "collapsed": true
   },
   "outputs": [],
   "source": []
  },
  {
   "cell_type": "code",
   "execution_count": null,
   "metadata": {
    "collapsed": true
   },
   "outputs": [],
   "source": []
  },
  {
   "cell_type": "code",
   "execution_count": null,
   "metadata": {
    "collapsed": true
   },
   "outputs": [],
   "source": []
  },
  {
   "cell_type": "code",
   "execution_count": null,
   "metadata": {
    "collapsed": true
   },
   "outputs": [],
   "source": []
  },
  {
   "cell_type": "code",
   "execution_count": null,
   "metadata": {
    "collapsed": true
   },
   "outputs": [],
   "source": []
  },
  {
   "cell_type": "code",
   "execution_count": null,
   "metadata": {
    "collapsed": true
   },
   "outputs": [],
   "source": []
  },
  {
   "cell_type": "code",
   "execution_count": 7,
   "metadata": {},
   "outputs": [
    {
     "name": "stdout",
     "output_type": "stream",
     "text": [
      "Hello:  Joseph\n",
      "Hello:  Glenn\n",
      "Hello:  Sally\n",
      "done\n"
     ]
    }
   ],
   "source": [
    "lst = ['Joseph', 'Glenn', 'Sally']\n",
    "for value in lst:\n",
    "    print(\"Hello: \", value)\n",
    "print(\"done\")"
   ]
  },
  {
   "cell_type": "code",
   "execution_count": null,
   "metadata": {
    "collapsed": true
   },
   "outputs": [],
   "source": []
  },
  {
   "cell_type": "code",
   "execution_count": null,
   "metadata": {
    "collapsed": true
   },
   "outputs": [],
   "source": []
  },
  {
   "cell_type": "code",
   "execution_count": null,
   "metadata": {
    "collapsed": true
   },
   "outputs": [],
   "source": []
  },
  {
   "cell_type": "code",
   "execution_count": null,
   "metadata": {
    "collapsed": true
   },
   "outputs": [],
   "source": []
  },
  {
   "cell_type": "code",
   "execution_count": null,
   "metadata": {
    "collapsed": true
   },
   "outputs": [],
   "source": []
  },
  {
   "cell_type": "code",
   "execution_count": 8,
   "metadata": {},
   "outputs": [
    {
     "name": "stdout",
     "output_type": "stream",
     "text": [
      "Largest: 74\n"
     ]
    }
   ],
   "source": [
    "#Predict the output:\n",
    "largest=-99999\n",
    "for itervar in [3, 41, 12, 9, 74, 15,-5,0,-7]:\n",
    "    if itervar > largest :\n",
    "        largest = itervar\n",
    "print('Largest:', largest)"
   ]
  },
  {
   "cell_type": "code",
   "execution_count": 1,
   "metadata": {},
   "outputs": [
    {
     "name": "stdout",
     "output_type": "stream",
     "text": [
      "Enter a number4\n",
      "Enter a number5\n",
      "Enter a numbergf\n",
      "bad data\n",
      "Enter a number7\n",
      "Enter a numberdone\n",
      "16\n",
      "3\n",
      "5.333333333333333\n"
     ]
    }
   ],
   "source": [
    "# Q)Write a program which repeatedly reads numbers until the user enters \"done\". \n",
    "#Once \"done\" is entered, print out the total, count, and average of the numbers. If the user enters anything other than a number, detect their mistake using try and except and \n",
    "# print an error message and skip to the next number.\n",
    "'''\n",
    "Enter a number: 4\n",
    "Enter a number: 5\n",
    "Enter a number: bad data\n",
    "Invalid input\n",
    "Enter a number: 7\n",
    "Enter a number: done\n",
    "16 3 5.333333333333333\n",
    "'''\n",
    "total=0\n",
    "count=0\n",
    "average=0\n",
    "while True :\n",
    "    try:\n",
    "        a = input(\"Enter a number\")\n",
    "        if a=='done':\n",
    "            print(total)\n",
    "            print(count)\n",
    "            print(average)\n",
    "            break\n",
    "        a = int(a)\n",
    "        total = total+a\n",
    "        count = count+1\n",
    "        average = total/count\n",
    "    except:\n",
    "        print(\"invalid input\")\n",
    "\n",
    "\n",
    "\n"
   ]
  },
  {
   "cell_type": "code",
   "execution_count": null,
   "metadata": {
    "collapsed": true
   },
   "outputs": [],
   "source": []
  }
 ],
 "metadata": {
  "kernelspec": {
   "display_name": "Python 3",
   "language": "python",
   "name": "python3"
  },
  "language_info": {
   "codemirror_mode": {
    "name": "ipython",
    "version": 3
   },
   "file_extension": ".py",
   "mimetype": "text/x-python",
   "name": "python",
   "nbconvert_exporter": "python",
   "pygments_lexer": "ipython3",
   "version": "3.6.3"
  }
 },
 "nbformat": 4,
 "nbformat_minor": 2
}
